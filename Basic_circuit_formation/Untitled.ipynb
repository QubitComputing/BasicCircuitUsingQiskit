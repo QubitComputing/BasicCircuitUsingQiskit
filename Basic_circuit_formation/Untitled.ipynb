{
 "cells": [
  {
   "cell_type": "code",
   "execution_count": 11,
   "id": "fbfa7a9b",
   "metadata": {},
   "outputs": [],
   "source": [
    "import qiskit as q "
   ]
  },
  {
   "cell_type": "code",
   "execution_count": 12,
   "id": "5d1ea1bd",
   "metadata": {},
   "outputs": [],
   "source": [
    "qr = q.QuantumRegister(2)"
   ]
  },
  {
   "cell_type": "code",
   "execution_count": 13,
   "id": "93b1d714",
   "metadata": {},
   "outputs": [],
   "source": [
    "cr = q.ClassicalRegister(2)"
   ]
  },
  {
   "cell_type": "code",
   "execution_count": 14,
   "id": "debcf656",
   "metadata": {},
   "outputs": [],
   "source": [
    "circuit = q.QuantumCircuit(qr, cr)"
   ]
  },
  {
   "cell_type": "code",
   "execution_count": 15,
   "id": "b8d35fbd",
   "metadata": {},
   "outputs": [
    {
     "data": {
      "text/html": [
       "<pre style=\"word-wrap: normal;white-space: pre;background: #fff0;line-height: 1.1;font-family: &quot;Courier New&quot;,Courier,monospace\">      ┌───┐┌─┐   \n",
       "q1_0: ┤ H ├┤M├───\n",
       "      ├───┤└╥┘┌─┐\n",
       "q1_1: ┤ H ├─╫─┤M├\n",
       "      └───┘ ║ └╥┘\n",
       "c1: 2/══════╩══╩═\n",
       "            0  1 </pre>"
      ],
      "text/plain": [
       "      ┌───┐┌─┐   \n",
       "q1_0: ┤ H ├┤M├───\n",
       "      ├───┤└╥┘┌─┐\n",
       "q1_1: ┤ H ├─╫─┤M├\n",
       "      └───┘ ║ └╥┘\n",
       "c1: 2/══════╩══╩═\n",
       "            0  1 "
      ]
     },
     "execution_count": 15,
     "metadata": {},
     "output_type": "execute_result"
    }
   ],
   "source": [
    "circuit.h(qr[0]) # apply hadamard gate on first qubit.\n",
    "circuit.h(qr[1]) # apply hadamard gate on second qubit.\n",
    "circuit.measure(qr, cr)\n",
    "circuit.draw(scale=2)"
   ]
  },
  {
   "cell_type": "code",
   "execution_count": 17,
   "id": "e8a75f93",
   "metadata": {},
   "outputs": [
    {
     "data": {
      "image/png": "[encoded data removed]",
      "text/plain": [
       "<Figure size 504x360 with 1 Axes>"
      ]
     },
     "execution_count": 17,
     "metadata": {},
     "output_type": "execute_result"
    }
   ],
   "source": [
    "qr1 = q.QuantumRegister(3)\n",
    "cr1 = q.ClassicalRegister(3)\n",
    "circuit1 = q.QuantumCircuit(qr1, cr1)\n",
    "circuit1.h(qr1[0]) # apply the H gate on q_0\n",
    "circuit1.h(qr1[1]) # apply H gate on q_1\n",
    "circuit1.h(qr1[2]) # add H gate on q_2\n",
    "circuit1.measure(qr1, cr1)\n",
    "### simulate result on local computer\n",
    "simulator1 = q.Aer.get_backend('qasm_simulator')\n",
    "results1 = q.execute(circuit1, backend=simulator1, ).result()\n",
    "q.visualization.plot_histogram(results1.get_counts(circuit1))"
   ]
  },
  {
   "cell_type": "code",
   "execution_count": null,
   "id": "9445df6c",
   "metadata": {},
   "outputs": [],
   "source": []
  }
 ],
 "metadata": {
  "kernelspec": {
   "display_name": "Python 3",
   "language": "python",
   "name": "python3"
  },
  "language_info": {
   "codemirror_mode": {
    "name": "ipython",
    "version": 3
   },
   "file_extension": ".py",
   "mimetype": "text/x-python",
   "name": "python",
   "nbconvert_exporter": "python",
   "pygments_lexer": "ipython3",
   "version": "3.8.8"
  }
 },
 "nbformat": 4,
 "nbformat_minor": 5
}
